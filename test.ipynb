{
 "cells": [
  {
   "cell_type": "code",
   "id": "initial_id",
   "metadata": {
    "collapsed": true,
    "jupyter": {
     "is_executing": true
    }
   },
   "source": [
    "import random\n",
    "import numpy as np\n",
    "import tensorflow as tf\n",
    "import gym\n",
    "from DQN_Networks import DQN, MIN_REPLAY_MEMORY_SIZE\n",
    "\n",
    "EPISODES = 2000\n",
    "EPSILON = 0.99\n",
    "MIN_EPSILON = 0.1\n",
    "DECAY_RATE = 0.995\n",
    "SHOW_EVERY = 10\n",
    "result_dict = {'ep': [], 'reward': []}\n",
    "env = gym.make('MountainCar-v0')\n",
    "\n",
    "state_size = env.observation_space.shape[0]\n",
    "action_size = env.action_space.n\n",
    "\n",
    "dqn_network = DQN(state_size, action_size)\n",
    "\n",
    "for episode in range(EPISODES):\n",
    "    done = False\n",
    "    total_reward = 0\n",
    "    it = 0\n",
    "    curr_state, _ = env.reset()\n",
    "    while not done and it <= 200:\n",
    "        curr_state = np.reshape(curr_state, (1, -1))\n",
    "        curr_state = tf.convert_to_tensor(curr_state, dtype=tf.float32)\n",
    "        if random.random() < EPSILON:\n",
    "            q_predict = dqn_network.predict_q_value(curr_state, dqn_network.Q_model)\n",
    "            # print(f\"q_predict: {q_predict}\")\n",
    "            q_action = tf.argmax(q_predict, axis=1).numpy()[0]\n",
    "\n",
    "        else:\n",
    "            q_action = random.randint(0, action_size - 1)\n",
    "        if (it % 100 == 0):\n",
    "            print(f\"Q action:{q_action}\")\n",
    "        next_state, reward, done, info, _ = env.step(q_action)\n",
    "        total_reward += reward\n",
    "\n",
    "        dqn_network.add_memory(curr_state, q_action, reward, next_state, done)\n",
    "        curr_state = next_state\n",
    "        if (next_state[0] >= env.goal_position): print(f\"We made it in Episode: {episode}\")\n",
    "        if (len(dqn_network.replay_buffer) > MIN_REPLAY_MEMORY_SIZE):\n",
    "            dqn_network.train_network()\n",
    "        it += 1\n",
    "    if EPSILON <= MIN_EPSILON:\n",
    "        EPSILON = EPSILON * DECAY_RATE\n",
    "    result_dict['reward'].append(total_reward)\n",
    "    result_dict['ep'].append(episode)\n",
    "    print(f\"Episode:{episode} Results:{total_reward}\")\n",
    "\n",
    "env.close()"
   ],
   "outputs": [],
   "execution_count": null
  },
  {
   "metadata": {},
   "cell_type": "code",
   "outputs": [],
   "execution_count": null,
   "source": "",
   "id": "dba051da78c65b29"
  },
  {
   "metadata": {},
   "cell_type": "code",
   "outputs": [],
   "execution_count": null,
   "source": "",
   "id": "59390b63a91bb809"
  }
 ],
 "metadata": {
  "kernelspec": {
   "display_name": "Python 3",
   "language": "python",
   "name": "python3"
  },
  "language_info": {
   "codemirror_mode": {
    "name": "ipython",
    "version": 2
   },
   "file_extension": ".py",
   "mimetype": "text/x-python",
   "name": "python",
   "nbconvert_exporter": "python",
   "pygments_lexer": "ipython2",
   "version": "2.7.6"
  }
 },
 "nbformat": 4,
 "nbformat_minor": 5
}
